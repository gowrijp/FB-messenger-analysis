{
 "cells": [
  {
   "cell_type": "code",
   "execution_count": null,
   "metadata": {},
   "outputs": [],
   "source": [
    "import json\n",
    "import os\n",
    "import datetime\n",
    "import csv\n",
    "import sys\n",
    "import re\n",
    "import pandas as pd\n",
    "import matplotlib\n",
    "import matplotlib.pyplot as plt\n",
    "from tkinter import *\n",
    "from pandas.plotting import register_matplotlib_converters\n",
    "from contact import Contact #importing Contact class from contact.py\n",
    "import string\n",
    "import math\n",
    "import seaborn as sns\n",
    "import numpy as np\n",
    "import spacy"
   ]
  },
  {
   "cell_type": "code",
   "execution_count": null,
   "metadata": {},
   "outputs": [],
   "source": [
    "directory = \"messages/inbox/\" # path to inbox folder of messenger archive data\n",
    "filenames = os.listdir(directory)"
   ]
  },
  {
   "cell_type": "code",
   "execution_count": null,
   "metadata": {
    "scrolled": true
   },
   "outputs": [],
   "source": [
    "# Arrays that hold all contact data\n",
    "name_list=[]\n",
    "filepath = \"C:/Users/Gowri/Documents/messenger_analysis/messages/inbox/\"\n",
    "\n",
    "c_num = -1\n",
    "# Loop through all folders\n",
    "for filename in filenames:\n",
    "    # Name of file is \"message_1.json\"\n",
    "    with open(filepath + filename + \"/message_1.json\") as f:\n",
    "      data = json.load(f)\n",
    "\n",
    "    # Only analyze direct messages and if more than 100 messages sent\n",
    "    if data[\"thread_type\"] == \"Regular\" and len(data[\"messages\"]) > 100:\n",
    "        # 'title' is the name of contact\n",
    "        contact_name = data[\"title\"]\n",
    "        name_list.append(Contact(contact_name, filename))\n",
    "        c_num = c_num+ 1\n",
    "        my_contact=name_list[c_num]\n",
    "        print(my_contact.name)\n",
    "\n",
    "        for i in data[\"messages\"]:\n",
    "            # Check if content exists (not vid or photo or shared links)\n",
    "            # Note that some shared links include message\n",
    "            if i.get(\"content\") and i[\"type\"] == 'Generic':\n",
    "                # Count number of words\n",
    "                num_words = 0\n",
    "                message_text = i[\"content\"] # Message \n",
    "                words = message_text.split() # Each \"word\" in array\n",
    "                for substr in words:\n",
    "                    if re.search(\"[a-zA-Z0-9]\", substr): # Count as \"word\" if contains letter or number\n",
    "                        num_words += 1 \n",
    "\n",
    "                sender = i[\"sender_name\"]\n",
    "                ts= i[\"timestamp_ms\"]\n",
    "                dt_obj = datetime.datetime.fromtimestamp(int(ts/1000))\n",
    "\n",
    "                if sender == my_contact.name:\n",
    "                    my_contact.add_rcvd_msg_date(dt_obj, num_words)\n",
    "\n",
    "                else:\n",
    "                    my_contact.add_sent_msg_date(dt_obj, num_words)\n"
   ]
  },
  {
   "cell_type": "code",
   "execution_count": null,
   "metadata": {},
   "outputs": [],
   "source": [
    "# Write data to a CSV\n",
    "with open('MessageData'+'.csv','w', newline='', encoding='utf-8-sig') as csvFile:\n",
    "    writer = csv.writer(csvFile)\n",
    "    hdr = [\"Name\",\"Year\",\"Month\",\"Received Messages\", \"Sent Messages\",\"Received Words\",\"Sent Words\"]\n",
    "    writer.writerow(hdr)\n",
    "    for name in name_list:\n",
    "        msg_data = name.get_dates()\n",
    "        msg_counts = name.get_counts()\n",
    "        for entry in msg_data:\n",
    "            pos = msg_data.index(entry)\n",
    "            row = [name.name,entry.year,entry.month, msg_counts[pos][0], msg_counts[pos][1],msg_counts[pos][2],msg_counts[pos][3]]\n",
    "            writer.writerow(row)"
   ]
  },
  {
   "cell_type": "code",
   "execution_count": null,
   "metadata": {},
   "outputs": [],
   "source": [
    "with open('Contact_Folders'+'.csv','w', newline='', encoding='utf-8-sig') as refFile:\n",
    "    writer = csv.writer(refFile)\n",
    "    hdr = [\"Name\",\"Folder\"]\n",
    "    writer.writerow(hdr)\n",
    "    for name in name_list:\n",
    "        row = [name.name, name.folder_name]\n",
    "        writer.writerow(row)"
   ]
  },
  {
   "cell_type": "code",
   "execution_count": null,
   "metadata": {},
   "outputs": [],
   "source": [
    "# Load data to DataFrame for further analysis\n",
    "df = pd.read_csv('MessageData.csv')\n",
    "# Create date column\n",
    "df['Date'] = pd.to_datetime(df[['Year', 'Month']].assign(DAY=1))\n",
    "df['Total Messages'] = df['Received Messages'] + df['Sent Messages']\n",
    "df['Total Words'] = df['Received Words'] + df['Sent Words']\n",
    "folders = pd.read_csv('Contact_Folders.csv', index_col = 'Name')"
   ]
  },
  {
   "cell_type": "code",
   "execution_count": null,
   "metadata": {},
   "outputs": [],
   "source": []
  },
  {
   "cell_type": "code",
   "execution_count": null,
   "metadata": {},
   "outputs": [],
   "source": [
    "\n",
    "# Plot messages over time for a particular person\n",
    "\n",
    "# Get contact name\n",
    "name_input = 'Bijily Jayaprakash' #Input name of your choice\n",
    "# Only plot if valid name\n",
    "if name_input in df['Name'].values:\n",
    "    # Filter\n",
    "    filtered_df = df[df['Name'] == name_input]\n",
    "    # Fill missing months with 0\n",
    "    filtered_df = filtered_df.set_index('Date').resample('MS').asfreq(fill_value = 0)\n",
    "    plt.figure()\n",
    "    plt.plot(filtered_df.index, filtered_df['Received Messages'], label = \"Received\")\n",
    "    plt.plot(filtered_df.index, filtered_df['Sent Messages'], label = \"Sent\")\n",
    "    plt.xticks(rotation=30)\n",
    "    plt.legend()\n",
    "    plt.title(name_input)\n",
    "    plt.show()"
   ]
  },
  {
   "cell_type": "code",
   "execution_count": null,
   "metadata": {},
   "outputs": [],
   "source": [
    "# Top 10 messaged people\n",
    "\n",
    "n = 10\n",
    "fig = plt.figure(figsize = [10, 5])\n",
    "ax = fig.add_axes([0.1,0.2,0.85,0.7])\n",
    "# Group by name, filter top 10 and sort, plot Name vs. messages\n",
    "print(df.head())\n",
    "grouped_contacts = df.groupby(df['Name'])\n",
    "print(grouped_contacts.head())\n",
    "grouped_contacts = grouped_contacts['Name', 'Total Messages', 'Total Words'].sum()\n",
    "print(grouped_contacts.head())\n",
    "\n",
    "grouped_contacts.sort_values(by = ['Total Messages'], ascending = [False], inplace=True)\n",
    "if len(grouped_contacts.index) > n:\n",
    "    grouped_contacts = grouped_contacts[0:n-1]\n",
    "ax.bar(grouped_contacts.index, grouped_contacts['Total Messages'])\n",
    "ax.set_ylabel(\"Number of Messages\")\n",
    "ax.set_title(\"Top \" + str(n) + \" Most Messaged\")\n",
    "plt.setp(ax.get_xticklabels(), rotation=30, horizontalalignment='right')\n",
    "plt.show()"
   ]
  },
  {
   "cell_type": "code",
   "execution_count": null,
   "metadata": {},
   "outputs": [],
   "source": [
    "# Plotting messages sent and received over time\n",
    "\n",
    "plt.figure()\n",
    "filtered_df = df.groupby(df['Date'])\n",
    "filtered_df = filtered_df.sum()\n",
    "plt.plot(filtered_df.index, filtered_df['Received Messages'], label = \"Received\")\n",
    "plt.plot(filtered_df.index, filtered_df['Sent Messages'], label = \"Sent\")\n",
    "plt.xticks(rotation=30)\n",
    "plt.legend()\n",
    "plt.show()"
   ]
  },
  {
   "cell_type": "code",
   "execution_count": null,
   "metadata": {},
   "outputs": [],
   "source": [
    "# Word spectrum for a particular person\n",
    "\n",
    "nlp = spacy.load('en_core_web_sm')\n",
    "name_input = 'Bijily Jayaprakash'\n",
    "folder_name = 'C:/Users/Gowri/Documents/messenger_analysis/messages/inbox/BijilyJayaprakash_lMvE1KhgNg' #folder name of the person chosen\n",
    "with open(folder_name + \"/message_1.json\") as f:  #the message_1.json file contains all the texts sent and received \n",
    "    data = json.load(f)\n",
    "\n",
    "word_counts = {} # to store words and count of the words\n",
    "my_count = 0  #total no: of words sent by me\n",
    "friend_count = 0  #total no: of words sent to me by friend"
   ]
  },
  {
   "cell_type": "code",
   "execution_count": null,
   "metadata": {},
   "outputs": [],
   "source": [
    "# Only analyze direct messages and if more than 100 messages sent\n",
    "for i in data[\"messages\"]:\n",
    "    # Check if content exists (not vid or photo or shared links). Note that some shared links include message\n",
    "    if i.get(\"content\") and i[\"type\"] == 'Generic':\n",
    "        # Count number of words\n",
    "        message_text = i[\"content\"] # Message\n",
    "        message_doc = nlp(message_text)\n",
    "        sender = i[\"sender_name\"]\n",
    "        # Remove all punctuation\n",
    "        for token in message_doc:\n",
    "            word = str(token.lemma_).lower()\n",
    "            # Ignore stopwords and punctuations and pronouns\n",
    "            if (not token.is_stop) and (not token.is_punct):\n",
    "                # Left is me, right is converser\n",
    "                if sender == name_input:\n",
    "                    friend_count += 1\n",
    "                    if word in word_counts.keys():\n",
    "                        word_counts.update({word:[word_counts[word][0], word_counts[word][1] + 1]})\n",
    "                    else:\n",
    "                        word_counts[word] = [0,1] #this means I used the word 0 times and sender used it one time(here adding word to dictionary for first time)\n",
    "                else:\n",
    "                    my_count += 1\n",
    "                    if word in word_counts.keys():\n",
    "                        word_counts.update({word:[word_counts[word][0]+1, word_counts[word][1]]})\n",
    "                    else:\n",
    "                        word_counts[word] = [1,0]"
   ]
  },
  {
   "cell_type": "code",
   "execution_count": null,
   "metadata": {},
   "outputs": [],
   "source": [
    "words_data = pd.DataFrame.from_dict(word_counts,orient='index') #creating pandas df from dictionary of words and its count\n",
    "words_data = words_data.reset_index()\n",
    "words_data.columns = ['word','me', 'friend']\n",
    "\n",
    "words_data = words_data[words_data['word'].str.isalpha()] #to remove the utf-8 encoded emojis in the messages json data\n",
    "words_data['my_norm'] = words_data['me']/my_count*1000\n",
    "words_data['friend_norm'] = words_data['friend']/friend_count*1000\n",
    "words_data['my_prop'] = words_data['my_norm']/(words_data['my_norm']+words_data['friend_norm'])\n",
    "words_data['prop_bin'] = np.floor(words_data['my_prop']*10)\n",
    "\n",
    "# Filter\n",
    "words_data = words_data[(words_data['friend_norm'] > 1) | (words_data['my_norm'] > 1)]\n",
    "words_data['total'] = words_data['me']+words_data['friend']\n",
    "words_data.sort_values(by = ['total'], ascending = [False], inplace=True)\n"
   ]
  },
  {
   "cell_type": "code",
   "execution_count": null,
   "metadata": {},
   "outputs": [],
   "source": [
    "words_data.head()"
   ]
  },
  {
   "cell_type": "code",
   "execution_count": null,
   "metadata": {},
   "outputs": [],
   "source": [
    "# Visualising word spectrum\n",
    "\n",
    "summ = pd.DataFrame()\n",
    "for i in range(10):\n",
    "    summ[str(i)] = words_data[words_data['prop_bin']==i]['word'].reset_index().head(10)['word']\n",
    "\n",
    "bins = []\n",
    "for i in range(10):\n",
    "    bins.append(','.join(word for word in words_data[words_data['prop_bin']==i]['word'].reset_index().head(5)['word'].tolist()))\n",
    "    \n",
    "summ_df = pd.DataFrame(bins, columns = ['Words'])\n",
    "summ_df['Val'] = pd.Series([i for i in range(10)])\n",
    "summ_df.set_index('Words', inplace = True)\n",
    "#matplotlib.rcParams['font.sans-serif'] = ['Source Han Sans TW', 'sans-serif']\n",
    "fig = plt.figure(figsize = (13,5))\n",
    "ax = fig.add_axes([0.22\t,0.1,0.85,0.7])\n",
    "sns.heatmap(summ_df)\n",
    "\n",
    "plt.show()"
   ]
  }
 ],
 "metadata": {
  "kernelspec": {
   "display_name": "myspacyenv",
   "language": "python",
   "name": "myspacyenv"
  },
  "language_info": {
   "codemirror_mode": {
    "name": "ipython",
    "version": 3
   },
   "file_extension": ".py",
   "mimetype": "text/x-python",
   "name": "python",
   "nbconvert_exporter": "python",
   "pygments_lexer": "ipython3",
   "version": "3.6.10"
  }
 },
 "nbformat": 4,
 "nbformat_minor": 4
}
